{
 "cells": [
  {
   "cell_type": "markdown",
   "metadata": {},
   "source": [
    "## Create image by yourself Using Python Code "
   ]
  },
  {
   "cell_type": "code",
   "execution_count": 11,
   "metadata": {},
   "outputs": [],
   "source": [
    "import cv2 \n",
    "import numpy as np"
   ]
  },
  {
   "cell_type": "code",
   "execution_count": 12,
   "metadata": {},
   "outputs": [
    {
     "data": {
      "text/plain": [
       "-1"
      ]
     },
     "execution_count": 12,
     "metadata": {},
     "output_type": "execute_result"
    }
   ],
   "source": [
    "image = np.zeros((300, 300, 3), dtype=\"uint8\")\n",
    "\n",
    "(centerX, centerY) = (image.shape[1] // 2, image.shape[0] // 2)\n",
    "center_coordinates = (centerX, centerY)\n",
    "  \n",
    "axesLength = (120, 80)\n",
    "angle = 90\n",
    "startAngle = 0\n",
    "endAngle = 360\n",
    "color = (0, 0, 255)\n",
    "thickness = 2\n",
    "\n",
    "for r in range(0, 175, 25):\n",
    "    image = cv2.ellipse(image, center_coordinates, (r,80),\n",
    "           angle, startAngle, endAngle, color, thickness)\n",
    "    image = cv2.ellipse(image, center_coordinates, (r,80),\n",
    "           0, startAngle, endAngle, (255,0,0), thickness)\n",
    "   \n",
    "\n",
    "cv2.imshow('ellipse', image) \n",
    "cv2.waitKey(0)"
   ]
  },
  {
   "cell_type": "markdown",
   "metadata": {},
   "source": [
    "## Take 2 image crop some part of both image and swap it. "
   ]
  },
  {
   "cell_type": "code",
   "execution_count": 13,
   "metadata": {},
   "outputs": [],
   "source": [
    "woman = cv2.imread('woman.jpg')\n",
    "man = cv2.imread('man.jpg')\n",
    "\n",
    "cv2.imshow('man', man )\n",
    "cv2.imshow('woman', woman )\n",
    "cv2.waitKey()\n",
    "cv2.destroyAllWindows()"
   ]
  },
  {
   "cell_type": "code",
   "execution_count": 14,
   "metadata": {},
   "outputs": [],
   "source": [
    "# cropping & sawpping\n",
    "\n",
    "c1 = man[15:195, 125:260]\n",
    "woman[15:195, 125:260] = c1\n",
    "cv2.imshow('swap1 ', woman )\n",
    "cv2.waitKey()\n",
    "cv2.destroyAllWindows()"
   ]
  },
  {
   "cell_type": "code",
   "execution_count": 15,
   "metadata": {},
   "outputs": [],
   "source": [
    "# cropping & sawpping\n",
    "\n",
    "woman = cv2.imread('woman.jpg')\n",
    "c2 = woman[15:195, 125:260]\n",
    "man[15:195, 125:260]=c2\n",
    "cv2.imshow('swap2', man )\n",
    "cv2.waitKey()\n",
    "cv2.destroyAllWindows()"
   ]
  },
  {
   "cell_type": "markdown",
   "metadata": {},
   "source": [
    "## Take 2 image and combine it to form single image. For example collage "
   ]
  },
  {
   "cell_type": "code",
   "execution_count": 16,
   "metadata": {},
   "outputs": [],
   "source": [
    "a = cv2.imread('woman.jpg')\n",
    "b = cv2.imread('man.jpg')"
   ]
  },
  {
   "cell_type": "code",
   "execution_count": 17,
   "metadata": {},
   "outputs": [
    {
     "data": {
      "text/plain": [
       "(600, 361, 3)"
      ]
     },
     "execution_count": 17,
     "metadata": {},
     "output_type": "execute_result"
    }
   ],
   "source": [
    "a.shape"
   ]
  },
  {
   "cell_type": "code",
   "execution_count": 18,
   "metadata": {},
   "outputs": [
    {
     "data": {
      "text/plain": [
       "(623, 400, 3)"
      ]
     },
     "execution_count": 18,
     "metadata": {},
     "output_type": "execute_result"
    }
   ],
   "source": [
    "b.shape"
   ]
  },
  {
   "cell_type": "code",
   "execution_count": 19,
   "metadata": {},
   "outputs": [],
   "source": [
    "b = b[:600,:]\n",
    "c = np.hstack((a,b))\n",
    "cv2.imshow('Collage1', c )\n",
    "cv2.waitKey()\n",
    "cv2.destroyAllWindows()"
   ]
  },
  {
   "cell_type": "code",
   "execution_count": 20,
   "metadata": {},
   "outputs": [],
   "source": [
    "b1 = b[15:195, 125:260]\n",
    "a1 = a[15:195, 125:260]\n",
    "c = np.vstack((a1,b1))\n",
    "cv2.imshow('Collage2', c )\n",
    "cv2.waitKey()\n",
    "cv2.destroyAllWindows()"
   ]
  },
  {
   "cell_type": "code",
   "execution_count": null,
   "metadata": {},
   "outputs": [],
   "source": []
  }
 ],
 "metadata": {
  "kernelspec": {
   "display_name": "Python 3",
   "language": "python",
   "name": "python3"
  },
  "language_info": {
   "codemirror_mode": {
    "name": "ipython",
    "version": 3
   },
   "file_extension": ".py",
   "mimetype": "text/x-python",
   "name": "python",
   "nbconvert_exporter": "python",
   "pygments_lexer": "ipython3",
   "version": "3.8.5"
  }
 },
 "nbformat": 4,
 "nbformat_minor": 4
}
